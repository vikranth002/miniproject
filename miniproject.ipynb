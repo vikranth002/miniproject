{
  "nbformat": 4,
  "nbformat_minor": 0,
  "metadata": {
    "colab": {
      "provenance": []
    },
    "kernelspec": {
      "name": "python3",
      "display_name": "Python 3"
    },
    "language_info": {
      "name": "python"
    }
  },
  "cells": [
    {
      "cell_type": "code",
      "source": [
        "from google.colab import files\n",
        "import zipfile\n",
        "import os\n",
        "\n",
        "# Upload the dataset\n",
        "uploaded = files.upload()\n",
        "\n",
        "# Extract the uploaded zip file\n",
        "for filename in uploaded.keys():\n",
        "    zip_path = filename\n",
        "    break\n",
        "\n",
        "extract_path = '/content/CamSeq01'\n",
        "with zipfile.ZipFile(zip_path, 'r') as zip_ref:\n",
        "    zip_ref.extractall(extract_path)\n",
        "\n",
        "print(\"Extracted files:\", os.listdir(extract_path))\n"
      ],
      "metadata": {
        "colab": {
          "base_uri": "https://localhost:8080/",
          "height": 110
        },
        "id": "-TeV5s9_szGF",
        "outputId": "19d32b64-b0d4-4839-8da6-985433f122c1"
      },
      "execution_count": 9,
      "outputs": [
        {
          "output_type": "display_data",
          "data": {
            "text/plain": [
              "<IPython.core.display.HTML object>"
            ],
            "text/html": [
              "\n",
              "     <input type=\"file\" id=\"files-e552100a-6000-4be0-bcd6-580227edbbe4\" name=\"files[]\" multiple disabled\n",
              "        style=\"border:none\" />\n",
              "     <output id=\"result-e552100a-6000-4be0-bcd6-580227edbbe4\">\n",
              "      Upload widget is only available when the cell has been executed in the\n",
              "      current browser session. Please rerun this cell to enable.\n",
              "      </output>\n",
              "      <script>// Copyright 2017 Google LLC\n",
              "//\n",
              "// Licensed under the Apache License, Version 2.0 (the \"License\");\n",
              "// you may not use this file except in compliance with the License.\n",
              "// You may obtain a copy of the License at\n",
              "//\n",
              "//      http://www.apache.org/licenses/LICENSE-2.0\n",
              "//\n",
              "// Unless required by applicable law or agreed to in writing, software\n",
              "// distributed under the License is distributed on an \"AS IS\" BASIS,\n",
              "// WITHOUT WARRANTIES OR CONDITIONS OF ANY KIND, either express or implied.\n",
              "// See the License for the specific language governing permissions and\n",
              "// limitations under the License.\n",
              "\n",
              "/**\n",
              " * @fileoverview Helpers for google.colab Python module.\n",
              " */\n",
              "(function(scope) {\n",
              "function span(text, styleAttributes = {}) {\n",
              "  const element = document.createElement('span');\n",
              "  element.textContent = text;\n",
              "  for (const key of Object.keys(styleAttributes)) {\n",
              "    element.style[key] = styleAttributes[key];\n",
              "  }\n",
              "  return element;\n",
              "}\n",
              "\n",
              "// Max number of bytes which will be uploaded at a time.\n",
              "const MAX_PAYLOAD_SIZE = 100 * 1024;\n",
              "\n",
              "function _uploadFiles(inputId, outputId) {\n",
              "  const steps = uploadFilesStep(inputId, outputId);\n",
              "  const outputElement = document.getElementById(outputId);\n",
              "  // Cache steps on the outputElement to make it available for the next call\n",
              "  // to uploadFilesContinue from Python.\n",
              "  outputElement.steps = steps;\n",
              "\n",
              "  return _uploadFilesContinue(outputId);\n",
              "}\n",
              "\n",
              "// This is roughly an async generator (not supported in the browser yet),\n",
              "// where there are multiple asynchronous steps and the Python side is going\n",
              "// to poll for completion of each step.\n",
              "// This uses a Promise to block the python side on completion of each step,\n",
              "// then passes the result of the previous step as the input to the next step.\n",
              "function _uploadFilesContinue(outputId) {\n",
              "  const outputElement = document.getElementById(outputId);\n",
              "  const steps = outputElement.steps;\n",
              "\n",
              "  const next = steps.next(outputElement.lastPromiseValue);\n",
              "  return Promise.resolve(next.value.promise).then((value) => {\n",
              "    // Cache the last promise value to make it available to the next\n",
              "    // step of the generator.\n",
              "    outputElement.lastPromiseValue = value;\n",
              "    return next.value.response;\n",
              "  });\n",
              "}\n",
              "\n",
              "/**\n",
              " * Generator function which is called between each async step of the upload\n",
              " * process.\n",
              " * @param {string} inputId Element ID of the input file picker element.\n",
              " * @param {string} outputId Element ID of the output display.\n",
              " * @return {!Iterable<!Object>} Iterable of next steps.\n",
              " */\n",
              "function* uploadFilesStep(inputId, outputId) {\n",
              "  const inputElement = document.getElementById(inputId);\n",
              "  inputElement.disabled = false;\n",
              "\n",
              "  const outputElement = document.getElementById(outputId);\n",
              "  outputElement.innerHTML = '';\n",
              "\n",
              "  const pickedPromise = new Promise((resolve) => {\n",
              "    inputElement.addEventListener('change', (e) => {\n",
              "      resolve(e.target.files);\n",
              "    });\n",
              "  });\n",
              "\n",
              "  const cancel = document.createElement('button');\n",
              "  inputElement.parentElement.appendChild(cancel);\n",
              "  cancel.textContent = 'Cancel upload';\n",
              "  const cancelPromise = new Promise((resolve) => {\n",
              "    cancel.onclick = () => {\n",
              "      resolve(null);\n",
              "    };\n",
              "  });\n",
              "\n",
              "  // Wait for the user to pick the files.\n",
              "  const files = yield {\n",
              "    promise: Promise.race([pickedPromise, cancelPromise]),\n",
              "    response: {\n",
              "      action: 'starting',\n",
              "    }\n",
              "  };\n",
              "\n",
              "  cancel.remove();\n",
              "\n",
              "  // Disable the input element since further picks are not allowed.\n",
              "  inputElement.disabled = true;\n",
              "\n",
              "  if (!files) {\n",
              "    return {\n",
              "      response: {\n",
              "        action: 'complete',\n",
              "      }\n",
              "    };\n",
              "  }\n",
              "\n",
              "  for (const file of files) {\n",
              "    const li = document.createElement('li');\n",
              "    li.append(span(file.name, {fontWeight: 'bold'}));\n",
              "    li.append(span(\n",
              "        `(${file.type || 'n/a'}) - ${file.size} bytes, ` +\n",
              "        `last modified: ${\n",
              "            file.lastModifiedDate ? file.lastModifiedDate.toLocaleDateString() :\n",
              "                                    'n/a'} - `));\n",
              "    const percent = span('0% done');\n",
              "    li.appendChild(percent);\n",
              "\n",
              "    outputElement.appendChild(li);\n",
              "\n",
              "    const fileDataPromise = new Promise((resolve) => {\n",
              "      const reader = new FileReader();\n",
              "      reader.onload = (e) => {\n",
              "        resolve(e.target.result);\n",
              "      };\n",
              "      reader.readAsArrayBuffer(file);\n",
              "    });\n",
              "    // Wait for the data to be ready.\n",
              "    let fileData = yield {\n",
              "      promise: fileDataPromise,\n",
              "      response: {\n",
              "        action: 'continue',\n",
              "      }\n",
              "    };\n",
              "\n",
              "    // Use a chunked sending to avoid message size limits. See b/62115660.\n",
              "    let position = 0;\n",
              "    do {\n",
              "      const length = Math.min(fileData.byteLength - position, MAX_PAYLOAD_SIZE);\n",
              "      const chunk = new Uint8Array(fileData, position, length);\n",
              "      position += length;\n",
              "\n",
              "      const base64 = btoa(String.fromCharCode.apply(null, chunk));\n",
              "      yield {\n",
              "        response: {\n",
              "          action: 'append',\n",
              "          file: file.name,\n",
              "          data: base64,\n",
              "        },\n",
              "      };\n",
              "\n",
              "      let percentDone = fileData.byteLength === 0 ?\n",
              "          100 :\n",
              "          Math.round((position / fileData.byteLength) * 100);\n",
              "      percent.textContent = `${percentDone}% done`;\n",
              "\n",
              "    } while (position < fileData.byteLength);\n",
              "  }\n",
              "\n",
              "  // All done.\n",
              "  yield {\n",
              "    response: {\n",
              "      action: 'complete',\n",
              "    }\n",
              "  };\n",
              "}\n",
              "\n",
              "scope.google = scope.google || {};\n",
              "scope.google.colab = scope.google.colab || {};\n",
              "scope.google.colab._files = {\n",
              "  _uploadFiles,\n",
              "  _uploadFilesContinue,\n",
              "};\n",
              "})(self);\n",
              "</script> "
            ]
          },
          "metadata": {}
        },
        {
          "output_type": "stream",
          "name": "stdout",
          "text": [
            "Saving CamSeq01.zip to CamSeq01 (1).zip\n",
            "Extracted files: ['0016E5_07989.png', '0016E5_08101_L.png', '0016E5_08141.png', '0016E5_07997.png', '0016E5_08075_L.png', '0016E5_08069.png', '0016E5_07999_L.png', '0016E5_08057.png', '0016E5_08017_L.png', '0016E5_08019.png', '0016E5_08033_L.png', '0016E5_08013_L.png', '0016E5_08061.png', '0016E5_07995.png', '0016E5_07971.png', '0016E5_08085.png', '0016E5_08041.png', '0016E5_08057_L.png', '0016E5_08073_L.png', '0016E5_08125_L.png', '0016E5_07993.png', '0016E5_08077_L.png', '0016E5_08123.png', '0016E5_07981.png', '0016E5_07993_L.png', '0016E5_08071_L.png', '0016E5_08041_L.png', '0016E5_08019_L.png', '0016E5_08113_L.png', '0016E5_08055.png', '0016E5_07975.png', '0016E5_08017.png', '0016E5_07975_L.png', '0016E5_08053.png', '0016E5_08045_L.png', '0016E5_08067.png', '0016E5_08001.png', '0016E5_08051_L.png', '0016E5_07983.png', '0016E5_08065.png', '0016E5_08121.png', '0016E5_08095.png', '0016E5_08147.png', '0016E5_08121_L.png', '0016E5_08013.png', '0016E5_08043_L.png', '0016E5_08091.png', '0016E5_08095_L.png', '0016E5_08149_L.png', '0016E5_08155.png', '0016E5_08157_L.png', '0016E5_08153.png', '0016E5_08009_L.png', '0016E5_08011.png', '0016E5_08105_L.png', '0016E5_08027_L.png', '0016E5_08097.png', '0016E5_07959.png', '0016E5_08065_L.png', '0016E5_08007_L.png', '0016E5_08005_L.png', '0016E5_08025_L.png', '0016E5_08059_L.png', '0016E5_08043.png', '0016E5_08027.png', '0016E5_08089.png', '0016E5_08047.png', '0016E5_08045.png', '0016E5_07977_L.png', '0016E5_08151.png', '0016E5_08047_L.png', '0016E5_08081_L.png', '0016E5_08139_L.png', '0016E5_07967.png', '0016E5_08145_L.png', '0016E5_07963.png', '0016E5_08051.png', '0016E5_08025.png', '0016E5_08149.png', '0016E5_07987_L.png', '0016E5_08049.png', '0016E5_08037.png', '0016E5_07967_L.png', '0016E5_08007.png', '0016E5_08157.png', '0016E5_08141_L.png', '0016E5_07979_L.png', '0016E5_08015_L.png', '0016E5_08039_L.png', '0016E5_07977.png', '0016E5_07969.png', '0016E5_08023.png', '0016E5_08109_L.png', '0016E5_07973_L.png', '0016E5_07991.png', '0016E5_08127_L.png', '0016E5_08139.png', '0016E5_07963_L.png', '0016E5_07987.png', '0016E5_08135_L.png', '0016E5_08147_L.png', '0016E5_08159.png', '0016E5_08033.png', '0016E5_08077.png', '0016E5_08101.png', '0016E5_08071.png', '0016E5_08021_L.png', '0016E5_08079.png', '0016E5_08135.png', '0016E5_08099.png', '0016E5_08003.png', '0016E5_08111_L.png', '0016E5_07999.png', '0016E5_07983_L.png', '0016E5_08127.png', '0016E5_08083.png', '0016E5_08107.png', '0016E5_08055_L.png', 'readme.txt', '0016E5_08037_L.png', '0016E5_08089_L.png', '0016E5_08155_L.png', '0016E5_08083_L.png', '0016E5_08151_L.png', '0016E5_07985_L.png', '0016E5_08143_L.png', '0016E5_08105.png', '0016E5_08081.png', '0016E5_08133_L.png', '0016E5_08031_L.png', '0016E5_07979.png', '0016E5_08039.png', '0016E5_08087.png', '0016E5_08087_L.png', '0016E5_08035.png', '0016E5_07959_L.png', '0016E5_08009.png', '0016E5_07991_L.png', '0016E5_07969_L.png', '0016E5_08049_L.png', '0016E5_07981_L.png', '0016E5_08153_L.png', '0016E5_08137.png', '0016E5_07965_L.png', '0016E5_07995_L.png', '0016E5_08143.png', '0016E5_08069_L.png', '0016E5_07985.png', '0016E5_08015.png', '0016E5_08115_L.png', '0016E5_08131.png', '0016E5_08145.png', '0016E5_08099_L.png', '0016E5_08111.png', '0016E5_07989_L.png', '0016E5_07971_L.png', '0016E5_08023_L.png', '0016E5_08113.png', '0016E5_08063_L.png', '0016E5_08103_L.png', '0016E5_08123_L.png', '0016E5_08133.png', '0016E5_08093.png', '0016E5_08119.png', '0016E5_08129_L.png', '0016E5_07961_L.png', '0016E5_08125.png', '0016E5_08103.png', '0016E5_07961.png', '0016E5_08117_L.png', '0016E5_08061_L.png', '0016E5_08063.png', '0016E5_08029_L.png', '0016E5_08117.png', '0016E5_08075.png', '0016E5_08091_L.png', '0016E5_08079_L.png', '0016E5_08115.png', '0016E5_08059.png', '0016E5_08053_L.png', '0016E5_08093_L.png', '0016E5_08001_L.png', '0016E5_08159_L.png', '0016E5_08109.png', '0016E5_08005.png', '0016E5_08031.png', '0016E5_08107_L.png', '0016E5_08073.png', '0016E5_08011_L.png', '0016E5_08035_L.png', '0016E5_08097_L.png', '0016E5_07973.png', '0016E5_08067_L.png', '0016E5_08119_L.png', '0016E5_07965.png', '0016E5_08029.png', '0016E5_08003_L.png', '0016E5_08131_L.png', '0016E5_08137_L.png', 'label_colors.txt', '0016E5_08021.png', '0016E5_08129.png', '0016E5_07997_L.png', '0016E5_08085_L.png']\n"
          ]
        }
      ]
    },
    {
      "cell_type": "code",
      "source": [
        "import os\n",
        "import cv2\n",
        "import numpy as np\n",
        "import matplotlib.pyplot as plt\n",
        "from sklearn.model_selection import train_test_split\n",
        "from tensorflow import keras\n",
        "from tensorflow.keras import layers\n"
      ],
      "metadata": {
        "id": "hHaAcfgis6_Q"
      },
      "execution_count": 10,
      "outputs": []
    },
    {
      "cell_type": "code",
      "source": [
        "def load_images_from_folder(folder):\n",
        "    images = []\n",
        "    labels = []  # Placeholder for labels, modify based on your data\n",
        "\n",
        "    for filename in os.listdir(folder):\n",
        "        img_path = os.path.join(folder, filename)\n",
        "        img = cv2.imread(img_path)\n",
        "\n",
        "        if img is not None:\n",
        "            img = cv2.resize(img, (224, 224))  # Resize images to a standard size\n",
        "            images.append(img)\n",
        "\n",
        "            # Dummy labels, update this to your actual labels\n",
        "            labels.append(0)  # Example: 0 for 'go straight', 1 for 'turn left', etc.\n",
        "\n",
        "    images = np.array(images)\n",
        "    labels = np.array(labels)\n",
        "    return images, labels\n",
        "\n",
        "data_dir = '/content/CamSeq01'\n",
        "images, labels = load_images_from_folder(data_dir)\n",
        "\n",
        "# Normalize the images\n",
        "images = images / 255.0\n"
      ],
      "metadata": {
        "id": "ld4B1PYPtAEC"
      },
      "execution_count": 11,
      "outputs": []
    },
    {
      "cell_type": "code",
      "source": [
        "X_train, X_test, y_train, y_test = train_test_split(images, labels, test_size=0.2, random_state=42)\n"
      ],
      "metadata": {
        "id": "qixljLMYtCEj"
      },
      "execution_count": 12,
      "outputs": []
    },
    {
      "cell_type": "code",
      "source": [
        "model = keras.Sequential([\n",
        "    layers.Conv2D(32, (3, 3), activation='relu', input_shape=(224, 224, 3)),\n",
        "    layers.MaxPooling2D((2, 2)),\n",
        "    layers.Conv2D(64, (3, 3), activation='relu'),\n",
        "    layers.MaxPooling2D((2, 2)),\n",
        "    layers.Conv2D(128, (3, 3), activation='relu'),\n",
        "    layers.MaxPooling2D((2, 2)),\n",
        "    layers.Flatten(),\n",
        "    layers.Dense(64, activation='relu'),\n",
        "    layers.Dense(1, activation='sigmoid')  # Change to 'softmax' if you have multiple classes\n",
        "])\n",
        "\n",
        "model.compile(optimizer='adam',\n",
        "              loss='binary_crossentropy',  # Change to 'sparse_categorical_crossentropy' for multiple classes\n",
        "              metrics=['accuracy'])\n"
      ],
      "metadata": {
        "id": "by2IAv3KtGHm"
      },
      "execution_count": 13,
      "outputs": []
    },
    {
      "cell_type": "code",
      "source": [
        "history = model.fit(X_train, y_train, epochs=10, validation_data=(X_test, y_test))\n"
      ],
      "metadata": {
        "colab": {
          "base_uri": "https://localhost:8080/"
        },
        "id": "CYn1XNlBtJ9s",
        "outputId": "0fad0667-4246-4152-e7d9-35834845fd00"
      },
      "execution_count": 14,
      "outputs": [
        {
          "output_type": "stream",
          "name": "stdout",
          "text": [
            "Epoch 1/10\n",
            "\u001b[1m6/6\u001b[0m \u001b[32m━━━━━━━━━━━━━━━━━━━━\u001b[0m\u001b[37m\u001b[0m \u001b[1m22s\u001b[0m 3s/step - accuracy: 0.9761 - loss: 0.2594 - val_accuracy: 1.0000 - val_loss: 8.8194e-35\n",
            "Epoch 2/10\n",
            "\u001b[1m6/6\u001b[0m \u001b[32m━━━━━━━━━━━━━━━━━━━━\u001b[0m\u001b[37m\u001b[0m \u001b[1m18s\u001b[0m 3s/step - accuracy: 1.0000 - loss: 3.4116e-35 - val_accuracy: 1.0000 - val_loss: 0.0000e+00\n",
            "Epoch 3/10\n",
            "\u001b[1m6/6\u001b[0m \u001b[32m━━━━━━━━━━━━━━━━━━━━\u001b[0m\u001b[37m\u001b[0m \u001b[1m21s\u001b[0m 3s/step - accuracy: 1.0000 - loss: 0.0000e+00 - val_accuracy: 1.0000 - val_loss: 0.0000e+00\n",
            "Epoch 4/10\n",
            "\u001b[1m6/6\u001b[0m \u001b[32m━━━━━━━━━━━━━━━━━━━━\u001b[0m\u001b[37m\u001b[0m \u001b[1m20s\u001b[0m 3s/step - accuracy: 1.0000 - loss: 0.0000e+00 - val_accuracy: 1.0000 - val_loss: 0.0000e+00\n",
            "Epoch 5/10\n",
            "\u001b[1m6/6\u001b[0m \u001b[32m━━━━━━━━━━━━━━━━━━━━\u001b[0m\u001b[37m\u001b[0m \u001b[1m22s\u001b[0m 3s/step - accuracy: 1.0000 - loss: 0.0000e+00 - val_accuracy: 1.0000 - val_loss: 0.0000e+00\n",
            "Epoch 6/10\n",
            "\u001b[1m6/6\u001b[0m \u001b[32m━━━━━━━━━━━━━━━━━━━━\u001b[0m\u001b[37m\u001b[0m \u001b[1m18s\u001b[0m 3s/step - accuracy: 1.0000 - loss: 0.0000e+00 - val_accuracy: 1.0000 - val_loss: 0.0000e+00\n",
            "Epoch 7/10\n",
            "\u001b[1m6/6\u001b[0m \u001b[32m━━━━━━━━━━━━━━━━━━━━\u001b[0m\u001b[37m\u001b[0m \u001b[1m17s\u001b[0m 3s/step - accuracy: 1.0000 - loss: 0.0000e+00 - val_accuracy: 1.0000 - val_loss: 0.0000e+00\n",
            "Epoch 8/10\n",
            "\u001b[1m6/6\u001b[0m \u001b[32m━━━━━━━━━━━━━━━━━━━━\u001b[0m\u001b[37m\u001b[0m \u001b[1m22s\u001b[0m 3s/step - accuracy: 1.0000 - loss: 0.0000e+00 - val_accuracy: 1.0000 - val_loss: 0.0000e+00\n",
            "Epoch 9/10\n",
            "\u001b[1m6/6\u001b[0m \u001b[32m━━━━━━━━━━━━━━━━━━━━\u001b[0m\u001b[37m\u001b[0m \u001b[1m17s\u001b[0m 3s/step - accuracy: 1.0000 - loss: 0.0000e+00 - val_accuracy: 1.0000 - val_loss: 0.0000e+00\n",
            "Epoch 10/10\n",
            "\u001b[1m6/6\u001b[0m \u001b[32m━━━━━━━━━━━━━━━━━━━━\u001b[0m\u001b[37m\u001b[0m \u001b[1m18s\u001b[0m 3s/step - accuracy: 1.0000 - loss: 0.0000e+00 - val_accuracy: 1.0000 - val_loss: 0.0000e+00\n"
          ]
        }
      ]
    },
    {
      "cell_type": "code",
      "source": [
        "loss, accuracy = model.evaluate(X_test, y_test)\n",
        "print(f\"Test Accuracy: {accuracy * 100:.2f}%\")\n"
      ],
      "metadata": {
        "colab": {
          "base_uri": "https://localhost:8080/"
        },
        "id": "WvmJ87-ntMMX",
        "outputId": "36f54bd0-0a3b-43e7-81db-8eb766de1d3b"
      },
      "execution_count": 15,
      "outputs": [
        {
          "output_type": "stream",
          "name": "stdout",
          "text": [
            "\u001b[1m2/2\u001b[0m \u001b[32m━━━━━━━━━━━━━━━━━━━━\u001b[0m\u001b[37m\u001b[0m \u001b[1m1s\u001b[0m 230ms/step - accuracy: 1.0000 - loss: 0.0000e+00\n",
            "Test Accuracy: 100.00%\n"
          ]
        }
      ]
    },
    {
      "cell_type": "code",
      "source": [
        "plt.plot(history.history['accuracy'], label='accuracy')\n",
        "plt.plot(history.history['val_accuracy'], label='val_accuracy')\n",
        "plt.xlabel('Epoch')\n",
        "plt.ylabel('Accuracy')\n",
        "plt.legend(loc='lower right')\n",
        "plt.show()\n"
      ],
      "metadata": {
        "colab": {
          "base_uri": "https://localhost:8080/",
          "height": 449
        },
        "id": "TWBNR3EftPNA",
        "outputId": "91ef018d-9255-41cd-dcc9-8b6cf18f5d99"
      },
      "execution_count": 16,
      "outputs": [
        {
          "output_type": "display_data",
          "data": {
            "text/plain": [
              "<Figure size 640x480 with 1 Axes>"
            ],
            "image/png": "[encoded data removed]"
          },
          "metadata": {}
        }
      ]
    }
  ]
}